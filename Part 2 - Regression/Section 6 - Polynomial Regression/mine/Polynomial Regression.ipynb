{
 "cells": [
  {
   "cell_type": "code",
   "execution_count": 2,
   "metadata": {
    "collapsed": true,
    "nbpresent": {
     "id": "314cb238-5ff4-42a0-a7c7-1ba90c7fc72e"
    }
   },
   "outputs": [],
   "source": [
    "import pandas as pd\n",
    "import numpy as np"
   ]
  },
  {
   "cell_type": "code",
   "execution_count": 3,
   "metadata": {
    "collapsed": true,
    "nbpresent": {
     "id": "36ae0083-cc2f-4267-9a01-86a8023aecb9"
    }
   },
   "outputs": [],
   "source": [
    "df = pd.read_csv(\"../Position_Salaries.csv\")"
   ]
  },
  {
   "cell_type": "code",
   "execution_count": 4,
   "metadata": {
    "collapsed": false,
    "nbpresent": {
     "id": "7d6fd18d-a986-4678-ae1d-6218e00c3962"
    }
   },
   "outputs": [
    {
     "data": {
      "text/html": [
       "<div>\n",
       "<table border=\"1\" class=\"dataframe\">\n",
       "  <thead>\n",
       "    <tr style=\"text-align: right;\">\n",
       "      <th></th>\n",
       "      <th>Position</th>\n",
       "      <th>Level</th>\n",
       "      <th>Salary</th>\n",
       "    </tr>\n",
       "  </thead>\n",
       "  <tbody>\n",
       "    <tr>\n",
       "      <th>0</th>\n",
       "      <td>Business Analyst</td>\n",
       "      <td>1</td>\n",
       "      <td>45000</td>\n",
       "    </tr>\n",
       "    <tr>\n",
       "      <th>1</th>\n",
       "      <td>Junior Consultant</td>\n",
       "      <td>2</td>\n",
       "      <td>50000</td>\n",
       "    </tr>\n",
       "    <tr>\n",
       "      <th>2</th>\n",
       "      <td>Senior Consultant</td>\n",
       "      <td>3</td>\n",
       "      <td>60000</td>\n",
       "    </tr>\n",
       "    <tr>\n",
       "      <th>3</th>\n",
       "      <td>Manager</td>\n",
       "      <td>4</td>\n",
       "      <td>80000</td>\n",
       "    </tr>\n",
       "    <tr>\n",
       "      <th>4</th>\n",
       "      <td>Country Manager</td>\n",
       "      <td>5</td>\n",
       "      <td>110000</td>\n",
       "    </tr>\n",
       "  </tbody>\n",
       "</table>\n",
       "</div>"
      ],
      "text/plain": [
       "            Position  Level  Salary\n",
       "0   Business Analyst      1   45000\n",
       "1  Junior Consultant      2   50000\n",
       "2  Senior Consultant      3   60000\n",
       "3            Manager      4   80000\n",
       "4    Country Manager      5  110000"
      ]
     },
     "execution_count": 4,
     "metadata": {},
     "output_type": "execute_result"
    }
   ],
   "source": [
    "df.head()"
   ]
  },
  {
   "cell_type": "code",
   "execution_count": 5,
   "metadata": {
    "collapsed": false,
    "nbpresent": {
     "id": "da5c1984-6304-4f4f-9a58-788e96e384d8"
    }
   },
   "outputs": [
    {
     "data": {
      "text/plain": [
       "(10, 3)"
      ]
     },
     "execution_count": 5,
     "metadata": {},
     "output_type": "execute_result"
    }
   ],
   "source": [
    "df.shape"
   ]
  },
  {
   "cell_type": "code",
   "execution_count": 9,
   "metadata": {
    "collapsed": true,
    "nbpresent": {
     "id": "68550144-9b4d-459a-87c3-66c959997456"
    }
   },
   "outputs": [],
   "source": [
    "X = df.iloc[:,1:2].values"
   ]
  },
  {
   "cell_type": "code",
   "execution_count": 10,
   "metadata": {
    "collapsed": false,
    "nbpresent": {
     "id": "3f47f284-9729-4b5b-b579-81a6ef6f152c"
    }
   },
   "outputs": [],
   "source": [
    "y = df.iloc[:,-1:].values"
   ]
  },
  {
   "cell_type": "code",
   "execution_count": 12,
   "metadata": {
    "collapsed": false,
    "nbpresent": {
     "id": "163c3984-b676-44d5-a948-a7246e29975e"
    }
   },
   "outputs": [
    {
     "data": {
      "text/plain": [
       "(array([[ 1],\n",
       "        [ 2],\n",
       "        [ 3],\n",
       "        [ 4],\n",
       "        [ 5],\n",
       "        [ 6],\n",
       "        [ 7],\n",
       "        [ 8],\n",
       "        [ 9],\n",
       "        [10]], dtype=int64), array([[  45000],\n",
       "        [  50000],\n",
       "        [  60000],\n",
       "        [  80000],\n",
       "        [ 110000],\n",
       "        [ 150000],\n",
       "        [ 200000],\n",
       "        [ 300000],\n",
       "        [ 500000],\n",
       "        [1000000]], dtype=int64))"
      ]
     },
     "execution_count": 12,
     "metadata": {},
     "output_type": "execute_result"
    }
   ],
   "source": [
    "X,y"
   ]
  },
  {
   "cell_type": "code",
   "execution_count": null,
   "metadata": {
    "collapsed": true,
    "nbpresent": {
     "id": "9cd42838-b9e2-4a85-bd8e-e61be12ae3d7"
    }
   },
   "outputs": [],
   "source": []
  },
  {
   "cell_type": "code",
   "execution_count": null,
   "metadata": {
    "collapsed": false
   },
   "outputs": [],
   "source": []
  },
  {
   "cell_type": "code",
   "execution_count": null,
   "metadata": {
    "collapsed": true
   },
   "outputs": [],
   "source": []
  },
  {
   "cell_type": "code",
   "execution_count": null,
   "metadata": {
    "collapsed": false
   },
   "outputs": [],
   "source": []
  },
  {
   "cell_type": "code",
   "execution_count": null,
   "metadata": {
    "collapsed": true
   },
   "outputs": [],
   "source": []
  }
 ],
 "metadata": {
  "anaconda-cloud": {},
  "kernelspec": {
   "display_name": "Python [conda root]",
   "language": "python",
   "name": "conda-root-py"
  },
  "language_info": {
   "codemirror_mode": {
    "name": "ipython",
    "version": 3
   },
   "file_extension": ".py",
   "mimetype": "text/x-python",
   "name": "python",
   "nbconvert_exporter": "python",
   "pygments_lexer": "ipython3",
   "version": "3.5.2"
  },
  "nbpresent": {
   "slides": {
    "2e771cac-e9bb-4719-8865-e0c9e1e9f40c": {
     "id": "2e771cac-e9bb-4719-8865-e0c9e1e9f40c",
     "prev": "37dd0136-5faa-4404-afd0-c7de4a5db31c",
     "regions": {
      "c21b1151-0cdd-48ec-9b28-2f03dbac95a9": {
       "attrs": {
        "height": 0.8,
        "width": 0.8,
        "x": 0.1,
        "y": 0.1
       },
       "content": {
        "cell": "9cd42838-b9e2-4a85-bd8e-e61be12ae3d7",
        "part": "whole"
       },
       "id": "c21b1151-0cdd-48ec-9b28-2f03dbac95a9"
      }
     }
    },
    "37dd0136-5faa-4404-afd0-c7de4a5db31c": {
     "id": "37dd0136-5faa-4404-afd0-c7de4a5db31c",
     "prev": "8678e3b4-ae64-48bf-8187-f440ba8fa14e",
     "regions": {
      "4e93c121-57f9-4207-9625-42371818ea4a": {
       "attrs": {
        "height": 0.8,
        "width": 0.8,
        "x": 0.1,
        "y": 0.1
       },
       "content": {
        "cell": "163c3984-b676-44d5-a948-a7246e29975e",
        "part": "whole"
       },
       "id": "4e93c121-57f9-4207-9625-42371818ea4a"
      }
     }
    },
    "58775cb9-8b40-4f62-957f-2e9b42def8cb": {
     "id": "58775cb9-8b40-4f62-957f-2e9b42def8cb",
     "prev": "86268943-5b0a-441a-8ee5-0a33517490c0",
     "regions": {
      "f09a6137-701c-4e50-86d1-fa98d6c38cbf": {
       "attrs": {
        "height": 0.8,
        "width": 0.8,
        "x": 0.1,
        "y": 0.1
       },
       "content": {
        "cell": "da5c1984-6304-4f4f-9a58-788e96e384d8",
        "part": "whole"
       },
       "id": "f09a6137-701c-4e50-86d1-fa98d6c38cbf"
      }
     }
    },
    "75f32794-0798-4e83-9bf3-011a610e1da1": {
     "id": "75f32794-0798-4e83-9bf3-011a610e1da1",
     "prev": null,
     "regions": {
      "2b6b7620-c05b-4edf-b0a0-c4be47c29646": {
       "attrs": {
        "height": 0.8,
        "width": 0.8,
        "x": 0.1,
        "y": 0.1
       },
       "content": {
        "cell": "36ae0083-cc2f-4267-9a01-86a8023aecb9",
        "part": "whole"
       },
       "id": "2b6b7620-c05b-4edf-b0a0-c4be47c29646"
      }
     }
    },
    "86268943-5b0a-441a-8ee5-0a33517490c0": {
     "id": "86268943-5b0a-441a-8ee5-0a33517490c0",
     "prev": "75f32794-0798-4e83-9bf3-011a610e1da1",
     "regions": {
      "6dd6ec0c-d349-439b-b2d5-6d89a4416f64": {
       "attrs": {
        "height": 0.8,
        "width": 0.8,
        "x": 0.1,
        "y": 0.1
       },
       "content": {
        "cell": "7d6fd18d-a986-4678-ae1d-6218e00c3962",
        "part": "whole"
       },
       "id": "6dd6ec0c-d349-439b-b2d5-6d89a4416f64"
      }
     }
    },
    "8678e3b4-ae64-48bf-8187-f440ba8fa14e": {
     "id": "8678e3b4-ae64-48bf-8187-f440ba8fa14e",
     "prev": "da8e1e6e-a5e1-46f8-a1c9-1292ee09ef33",
     "regions": {
      "ce1988c0-13b5-4511-a84c-c755ac9365b0": {
       "attrs": {
        "height": 0.8,
        "width": 0.8,
        "x": 0.1,
        "y": 0.1
       },
       "content": {
        "cell": "3f47f284-9729-4b5b-b579-81a6ef6f152c",
        "part": "whole"
       },
       "id": "ce1988c0-13b5-4511-a84c-c755ac9365b0"
      }
     }
    },
    "da8e1e6e-a5e1-46f8-a1c9-1292ee09ef33": {
     "id": "da8e1e6e-a5e1-46f8-a1c9-1292ee09ef33",
     "prev": "58775cb9-8b40-4f62-957f-2e9b42def8cb",
     "regions": {
      "fe58ad0d-f177-455a-b719-39a3ed2445d0": {
       "attrs": {
        "height": 0.8,
        "width": 0.8,
        "x": 0.1,
        "y": 0.1
       },
       "content": {
        "cell": "68550144-9b4d-459a-87c3-66c959997456",
        "part": "whole"
       },
       "id": "fe58ad0d-f177-455a-b719-39a3ed2445d0"
      }
     }
    }
   },
   "themes": {}
  }
 },
 "nbformat": 4,
 "nbformat_minor": 1
}
